{
  "nbformat": 4,
  "nbformat_minor": 0,
  "metadata": {
    "colab": {
      "provenance": [],
      "collapsed_sections": []
    },
    "kernelspec": {
      "name": "python3",
      "display_name": "Python 3"
    },
    "language_info": {
      "name": "python"
    }
  },
  "cells": [
    {
      "cell_type": "code",
      "execution_count": null,
      "metadata": {
        "id": "267DDLHtJv7_",
        "colab": {
          "base_uri": "https://localhost:8080/"
        },
        "outputId": "bed00abb-e636-47b9-8a74-c6233bc3b351"
      },
      "outputs": [
        {
          "output_type": "stream",
          "name": "stdout",
          "text": [
            "5\n"
          ]
        }
      ],
      "source": [
        "a=5\n",
        "b=6\n",
        "text=\"MBA TECH BATCH\"\n",
        "A=6\n",
        "#CANNOT START WITH NUMBER\n",
        "#CASE SENSTIVE\n",
        "print(a)"
      ]
    },
    {
      "cell_type": "code",
      "source": [
        "a = 33\n",
        "b = 200\n",
        "if b > a:\n",
        "print(\"b is greater than a\") # you will get an error"
      ],
      "metadata": {
        "id": "PtO9CQ_bUf2y",
        "colab": {
          "base_uri": "https://localhost:8080/",
          "height": 131
        },
        "outputId": "64110824-0aac-4a33-b97e-4598df719028"
      },
      "execution_count": 1,
      "outputs": [
        {
          "output_type": "error",
          "ename": "IndentationError",
          "evalue": "ignored",
          "traceback": [
            "\u001b[0;36m  File \u001b[0;32m\"<ipython-input-1-4276c1871af7>\"\u001b[0;36m, line \u001b[0;32m4\u001b[0m\n\u001b[0;31m    print(\"b is greater than a\") # you will get an error\u001b[0m\n\u001b[0m        ^\u001b[0m\n\u001b[0;31mIndentationError\u001b[0m\u001b[0;31m:\u001b[0m expected an indented block\n"
          ]
        }
      ]
    },
    {
      "cell_type": "code",
      "source": [
        "a = 33\n",
        "b = 200\n",
        "if b > a:\n",
        "  print(\"b is greater than a\")"
      ],
      "metadata": {
        "id": "NyLg95U6RAlw",
        "colab": {
          "base_uri": "https://localhost:8080/"
        },
        "outputId": "fda2608a-f907-44b7-8a9b-45484a50d3d0"
      },
      "execution_count": null,
      "outputs": [
        {
          "output_type": "stream",
          "name": "stdout",
          "text": [
            "b is greater than a\n"
          ]
        }
      ]
    },
    {
      "cell_type": "code",
      "source": [
        "num = 0\n",
        "\n",
        "if num > 0:\n",
        "    print(\"Positive number\")\n",
        "elif num == 0:\n",
        "    print(\"Zero\")\n",
        "else:\n",
        "    print(\"Negative number\")"
      ],
      "metadata": {
        "colab": {
          "base_uri": "https://localhost:8080/"
        },
        "id": "ts78RvEER2O1",
        "outputId": "3864bd88-8e7a-4489-fbbc-417f66471a29"
      },
      "execution_count": null,
      "outputs": [
        {
          "output_type": "stream",
          "name": "stdout",
          "text": [
            "Zero\n"
          ]
        }
      ]
    },
    {
      "cell_type": "code",
      "source": [
        "for i in range(0,5):\n",
        "  print(i)\n",
        "  print(\"Hi, How are you?\")"
      ],
      "metadata": {
        "colab": {
          "base_uri": "https://localhost:8080/"
        },
        "id": "TLl4WQHeMJAn",
        "outputId": "11219fb6-e79b-4954-cc3b-ec3b9214127e"
      },
      "execution_count": null,
      "outputs": [
        {
          "output_type": "stream",
          "name": "stdout",
          "text": [
            "0\n",
            "Hi, How are you?\n",
            "1\n",
            "Hi, How are you?\n",
            "2\n",
            "Hi, How are you?\n",
            "3\n",
            "Hi, How are you?\n",
            "4\n",
            "Hi, How are you?\n"
          ]
        }
      ]
    },
    {
      "cell_type": "code",
      "source": [
        "text=\"MBA TECH\"\n",
        "print(len(text))\n",
        "for i in range(len(text)):\n",
        "\n",
        "\n",
        "        print(text[i])"
      ],
      "metadata": {
        "colab": {
          "base_uri": "https://localhost:8080/"
        },
        "id": "JTvvdH0yNljs",
        "outputId": "b6ec9aa1-a48c-4b64-8d3c-25d8f5fcda62"
      },
      "execution_count": null,
      "outputs": [
        {
          "output_type": "stream",
          "name": "stdout",
          "text": [
            "8\n",
            "M\n",
            "B\n",
            "A\n",
            " \n",
            "T\n",
            "E\n",
            "C\n",
            "H\n"
          ]
        }
      ]
    },
    {
      "cell_type": "code",
      "source": [
        "#CODE for Adding two numbers\n",
        "a=5\n",
        "b=10\n",
        "sum=a+b\n",
        "print(\"SUM OF TWO NUMBERS IS :\",sum)"
      ],
      "metadata": {
        "colab": {
          "base_uri": "https://localhost:8080/"
        },
        "id": "ik5mFKcBWVnE",
        "outputId": "541f4486-8e61-4f40-cc32-98d08baf17d3"
      },
      "execution_count": null,
      "outputs": [
        {
          "output_type": "stream",
          "name": "stdout",
          "text": [
            "SUM OF TWO NUMBERS IS : 15\n"
          ]
        }
      ]
    },
    {
      "cell_type": "code",
      "source": [
        "# Function definition\n",
        "def sum( arg1, arg2 ):\n",
        "   # Add both the parameters and return them.\"\n",
        "   total = arg1 + arg2\n",
        "   print (\"Inside the function : \", total)\n",
        "   return total\n",
        "\n",
        "# Now you can call sum function\n",
        "total = sum( 10, 5 )\n",
        "print (\"Outside the function : \", total )"
      ],
      "metadata": {
        "colab": {
          "base_uri": "https://localhost:8080/"
        },
        "id": "lJDzN0srQely",
        "outputId": "7cf0c827-cf1b-4a0d-e743-b592d83879b1"
      },
      "execution_count": null,
      "outputs": [
        {
          "output_type": "stream",
          "name": "stdout",
          "text": [
            "Inside the function :  15\n",
            "Outside the function :  15\n"
          ]
        }
      ]
    },
    {
      "cell_type": "code",
      "source": [
        "# Text : ABC\n",
        "# Shift: 3\n",
        "# Cipher: DEF"
      ],
      "metadata": {
        "id": "omO97idHXdo3"
      },
      "execution_count": null,
      "outputs": []
    },
    {
      "cell_type": "code",
      "source": [
        "#STEP 1: Take Inputs\n",
        "text=str(input(\"enter the word:\"))\n",
        "shift=int(input(\"Enter the key: \"))\n",
        "result=''"
      ],
      "metadata": {
        "colab": {
          "base_uri": "https://localhost:8080/"
        },
        "id": "Cm2O8avXll5E",
        "outputId": "76fc368c-2136-41ec-e2a6-dd563b3d9689"
      },
      "execution_count": null,
      "outputs": [
        {
          "name": "stdout",
          "output_type": "stream",
          "text": [
            "enter the word:abc\n",
            "Enter the key: 3\n"
          ]
        }
      ]
    },
    {
      "cell_type": "code",
      "source": [
        "#STEP 2:  Traverse\n",
        "for i in range(len(text)):\n",
        "  char = text[i]\n",
        "  print(char)"
      ],
      "metadata": {
        "colab": {
          "base_uri": "https://localhost:8080/"
        },
        "id": "ZsacQjV1lti9",
        "outputId": "7aa51008-6436-4399-e6f9-0d460f559e06"
      },
      "execution_count": null,
      "outputs": [
        {
          "output_type": "stream",
          "name": "stdout",
          "text": [
            "a\n",
            "b\n",
            "c\n"
          ]
        }
      ]
    },
    {
      "cell_type": "code",
      "source": [
        "#STEP 3 For all upper case shift as per input\n",
        "text = \"SHARAN\"\n",
        "shift = 3\n",
        "result=''\n",
        "\n",
        "for i in range(len(text)):\n",
        "  char = text[i]\n",
        "  print(\"Orignal char\",char)\n",
        "  result = result + chr((ord(char) + shift-65) % 26 + 65)\n",
        "  print(\"Corresponding cipher\",result[i])\n",
        "  print(\"-------------------------\")\n",
        "print(\"Final Result\",result)"
      ],
      "metadata": {
        "colab": {
          "base_uri": "https://localhost:8080/"
        },
        "id": "hnAT30gplz0q",
        "outputId": "59997fc0-89df-4e72-f1f2-9c3325d088f7"
      },
      "execution_count": null,
      "outputs": [
        {
          "output_type": "stream",
          "name": "stdout",
          "text": [
            "Orignal char S\n",
            "Corresponding cipher V\n",
            "-------------------------\n",
            "Orignal char H\n",
            "Corresponding cipher K\n",
            "-------------------------\n",
            "Orignal char A\n",
            "Corresponding cipher D\n",
            "-------------------------\n",
            "Orignal char R\n",
            "Corresponding cipher U\n",
            "-------------------------\n",
            "Orignal char A\n",
            "Corresponding cipher D\n",
            "-------------------------\n",
            "Orignal char N\n",
            "Corresponding cipher Q\n",
            "-------------------------\n",
            "Final Result VKDUDQ\n"
          ]
        }
      ]
    },
    {
      "cell_type": "code",
      "source": [
        "# inbuilt function return an integer representing the Unicode code\n",
        "value = (ord(\"b\"))\n",
        "\n",
        "# prints the unicode value\n",
        "print (value)\n",
        "\n",
        "# print the character\n",
        "print(chr(value))\n",
        "\n",
        "#A-Z : 65 to 90\n",
        "#a-z : 97 to 122"
      ],
      "metadata": {
        "colab": {
          "base_uri": "https://localhost:8080/"
        },
        "id": "Br8bkwBlm8C4",
        "outputId": "acdc3e56-0d36-4bbb-e23d-859616373c05"
      },
      "execution_count": null,
      "outputs": [
        {
          "output_type": "stream",
          "name": "stdout",
          "text": [
            "98\n",
            "b\n"
          ]
        }
      ]
    },
    {
      "cell_type": "code",
      "source": [
        "value1 = (ord(\"M\"))\n",
        "print(\"Unicode code value of given char is \",value1)\n",
        "\n",
        "print(\"---------------------------------------\")\n",
        "\n",
        "value2 = (ord(\"M\")+3)\n",
        "print(\"Unicode with shift of 3 \",value2)\n",
        "\n",
        "print(\"---------------------------------------\")\n",
        "\n",
        "value2_1 = (ord(\"M\")+3)\n",
        "print(\"Char with shift of 3 \",chr(value2_1))\n",
        "\n",
        "print(\"---------------------------------------\")\n",
        "\n",
        "value3 = (ord(\"M\")+3-65)\n",
        "print(\"Convert to base of capital letter \",value3)\n",
        "\n",
        "print(\"---------------------------------------\")\n",
        "\n",
        "value4 = (ord(\"M\")+3-65)%26\n",
        "print(\"Taking Mod with 26 \",value4)\n",
        "\n",
        "print(\"---------------------------------------\")\n",
        "\n",
        "\n",
        "value5 = (ord(\"M\")+3-65)%26+65\n",
        "print(\"Unicode code value of cipher char is \",value5)\n",
        "\n",
        "\n",
        "print(\"---------------------------------------\")\n",
        "chr(value5)\n",
        "\n",
        "\n",
        "#breaking\n",
        "#(ord(\"A\")+3-65) makes base 0\n",
        "#"
      ],
      "metadata": {
        "colab": {
          "base_uri": "https://localhost:8080/",
          "height": 247
        },
        "id": "_tm1vRbwd947",
        "outputId": "7110b45f-e16c-4777-d385-b2fdee9fd730"
      },
      "execution_count": null,
      "outputs": [
        {
          "output_type": "stream",
          "name": "stdout",
          "text": [
            "Unicode code value of given char is  77\n",
            "---------------------------------------\n",
            "Unicode with shift of 3  80\n",
            "---------------------------------------\n",
            "Char with shift of 3  P\n",
            "---------------------------------------\n",
            "Convert to base of capital letter  15\n",
            "---------------------------------------\n",
            "Taking Mod with 26  15\n",
            "---------------------------------------\n",
            "Unicode code value of cipher char is  80\n",
            "---------------------------------------\n"
          ]
        },
        {
          "output_type": "execute_result",
          "data": {
            "text/plain": [
              "'P'"
            ],
            "application/vnd.google.colaboratory.intrinsic+json": {
              "type": "string"
            }
          },
          "metadata": {},
          "execution_count": 4
        }
      ]
    },
    {
      "cell_type": "code",
      "source": [
        "#STEP 5 FOR all lower case shift as per input\n",
        "text = \"abc\"\n",
        "shift = 4\n",
        "result=''\n",
        "for i in range(len(text)):\n",
        "  char = text[i]\n",
        "  result = result + chr((ord(char) + shift-97) % 26 + 97)\n",
        "print(result)"
      ],
      "metadata": {
        "colab": {
          "base_uri": "https://localhost:8080/"
        },
        "id": "iDoBAZ4uoMIU",
        "outputId": "e595f037-376c-4339-fbd3-2237c769df26"
      },
      "execution_count": null,
      "outputs": [
        {
          "output_type": "stream",
          "name": "stdout",
          "text": [
            "efg\n"
          ]
        }
      ]
    },
    {
      "cell_type": "code",
      "source": [
        "#INPUTS\n",
        "text = \"Sharan\"\n",
        "shift = 3\n",
        "\n",
        "result=''\n",
        "# traverse text\n",
        "for i in range(len(text)):\n",
        "  char = text[i]\n",
        "\n",
        "  # Encrypt uppercase characters\n",
        "  if (char.isupper()):\n",
        "    result += chr((ord(char) + shift-65) % 26 + 65)\n",
        "    \n",
        "  # Encrypt lowercase characters\n",
        "  else:\n",
        "    result += chr((ord(char) + shift - 97) % 26 + 97)\n",
        "    \n",
        "\n",
        "print (\"Text : \" + text)\n",
        "print (\"Shift : \" + str(shift))\n",
        "print(\"Cipher : \", result)\n"
      ],
      "metadata": {
        "colab": {
          "base_uri": "https://localhost:8080/"
        },
        "id": "sVhM6PH8eOpt",
        "outputId": "fed2d4c8-8b46-4f4e-a13c-d8746d1f7944"
      },
      "execution_count": null,
      "outputs": [
        {
          "output_type": "stream",
          "name": "stdout",
          "text": [
            "Text : Sharan\n",
            "Shift : 3\n",
            "Cipher :  Vkdudq\n"
          ]
        }
      ]
    },
    {
      "cell_type": "code",
      "source": [
        "#A python program to illustrate Caesar Cipher Technique\n",
        "def encrypt(text,s):\n",
        "  result = \"\"\n",
        "  # traverse text\n",
        "  s=s\n",
        "  print(s)\n",
        "  for i in range(len(text)):\n",
        "    char = text[i]\n",
        "\n",
        "    # Encrypt uppercase characters\n",
        "    if (char.isupper()):\n",
        "      result += chr((ord(char) + s-65) % 26 + 65)\n",
        "\n",
        "    # Encrypt lowercase characters\n",
        "    else:\n",
        "      result += chr((ord(char) + s - 97) % 26 + 97)\n",
        "    \n",
        "  return result\n",
        "\n",
        "#check the above function\n",
        "text=str(input(\"enter the word:\"))\n",
        "shift=int(input(\"Enter the key: \"))\n",
        "# print (\"Text : \" + text)\n",
        "# print (\"Shift : \" + str(s))\n",
        "print (\"Cipher: \" + encrypt(text,shift))"
      ],
      "metadata": {
        "colab": {
          "base_uri": "https://localhost:8080/"
        },
        "id": "kAyZ74FEdelQ",
        "outputId": "fa997ff0-0753-4bd9-9071-fa84306b24fe"
      },
      "execution_count": null,
      "outputs": [
        {
          "output_type": "stream",
          "name": "stdout",
          "text": [
            "enter the word:sharan\n",
            "Enter the key: 3\n",
            "3\n",
            "Cipher: vkdudq\n"
          ]
        }
      ]
    },
    {
      "cell_type": "code",
      "source": [
        "def decrypt(text,s):\n",
        "\n",
        "\n",
        "  # Cipher(n) = De-cipher(26-n)\n",
        "  s=26-s \n",
        "  print(s)    \n",
        "  result=\"\" \n",
        "  for i in range(len(text)):\n",
        "      char=text[i]\n",
        "      if(char.isupper()):  \n",
        "          result=result+chr((ord(char)+s-65)%26+65)\n",
        "      else:\n",
        "          result=result+chr((ord(char)+s-97)%26+97)\n",
        "  return result\n",
        "\n",
        "\n",
        "word=str(input(\"enter the word:\"))\n",
        "d=int(input(\"Enter the key: \"))\n",
        "\n",
        "print(\"Encoded word in Caeser cipher is: \",decrypt(word,d))\n"
      ],
      "metadata": {
        "colab": {
          "base_uri": "https://localhost:8080/"
        },
        "id": "HyUYjiiWpa0W",
        "outputId": "b392d2c9-f90f-4c23-f478-66e50b0e6ab1"
      },
      "execution_count": null,
      "outputs": [
        {
          "output_type": "stream",
          "name": "stdout",
          "text": [
            "enter the word:VKDUDQ\n",
            "Enter the key: 3\n",
            "23\n",
            "Encoded word in Caeser cipher is:  SHARAN\n"
          ]
        }
      ]
    }
  ]
}
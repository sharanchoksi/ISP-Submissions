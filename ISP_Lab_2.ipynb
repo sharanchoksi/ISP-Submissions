{
  "nbformat": 4,
  "nbformat_minor": 0,
  "metadata": {
    "colab": {
      "provenance": [],
      "collapsed_sections": []
    },
    "kernelspec": {
      "name": "python3",
      "display_name": "Python 3"
    },
    "language_info": {
      "name": "python"
    }
  },
  "cells": [
    {
      "cell_type": "code",
      "execution_count": null,
      "metadata": {
        "colab": {
          "base_uri": "https://localhost:8080/"
        },
        "id": "uTGmSIZxmb6H",
        "outputId": "e67f17fb-4d5e-419e-b36f-1d24446ecd6e"
      },
      "outputs": [
        {
          "output_type": "stream",
          "name": "stdout",
          "text": [
            "Enter the message: malay\n",
            "Enter the one time pad: yalam\n",
            "Length Equal\n",
            "Encrypted message is:  kawak\n"
          ]
        }
      ],
      "source": [
        "#Vernam Cipher\n",
        "\n",
        "\n",
        "#Step 1: Getting Inputs\n",
        "plain_text=input(\"Enter the message: \")\n",
        "key=input(\"Enter the one time pad: \")\n",
        "cipher_text=' '\n",
        "\n",
        "#Step 2: Data Cleaning- Replacing Space and Converting to Lower Case\n",
        "plain_text=plain_text.replace(\" \",\"\")\n",
        "key=key.replace(\" \",\"\")\n",
        "plain_text=plain_text.lower()\n",
        "key=key.lower()\n",
        "\n",
        "#Checking if Lengths are Equal\n",
        "if (len(plain_text)!=len(key)):\n",
        "  print(\"Invalid Input!\")\n",
        "else:\n",
        "  print(\"Length Equal\")\n",
        "\n",
        "#Logic\n",
        "cipher_text=\"\"\n",
        "\n",
        "#Iterating through the Length\n",
        "for i in range(len(plain_text)):\n",
        "  k1=ord(plain_text[i])-97  #Getting Input ASCII Value for lower\n",
        "  k2=ord(key[i])-97  #Getting Key ASCII Value for lower\n",
        "  s=chr((k1+k2)%26+97)  #(k1+k2)%26 for lower\n",
        "  cipher_text+=s   #Concatenate each output\n",
        "\n",
        "print(\"Encrypted message is: \",cipher_text)"
      ]
    },
    {
      "cell_type": "code",
      "source": [
        "def vernam(plain_text,key):\n",
        "  cipher_text=' '\n",
        "  plain_text=plain_text.replace(\" \",\"\")\n",
        "  key=key.replace(\" \",\"\")\n",
        "  plain_text=plain_text.lower()\n",
        "  key=key.lower()\n",
        "  if (len(plain_text)!=len(key)):\n",
        "   print(\"Invalid Input!\")\n",
        "  else:\n",
        "   cipher_text=\"\"\n",
        "\n",
        "   for i in range(len(plain_text)):\n",
        "    k1=ord(plain_text[i])-97 \n",
        "    k2=ord(key[i])-97  \n",
        "    s=chr((k1+k2)%26+97) \n",
        "    cipher_text+=s   \n",
        "  print(\"Encrypted message is: \",cipher_text)\n",
        "\n",
        "plain_text=input(\"Enter the message: \")\n",
        "key=input(\"Enter the one time pad: \")\n",
        "\n",
        "vernam(plain_text,key)"
      ],
      "metadata": {
        "colab": {
          "base_uri": "https://localhost:8080/"
        },
        "id": "dZTyCRHNsTfK",
        "outputId": "c16d38ea-c0ac-4224-c898-0af76d1bccc3"
      },
      "execution_count": null,
      "outputs": [
        {
          "output_type": "stream",
          "name": "stdout",
          "text": [
            "Enter the message: hahaha\n",
            "Enter the one time pad: ahahah\n",
            "Encrypted message is:  hhhhhh\n"
          ]
        }
      ]
    }
  ]
}
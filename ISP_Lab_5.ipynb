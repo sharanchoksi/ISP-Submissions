{
  "nbformat": 4,
  "nbformat_minor": 0,
  "metadata": {
    "colab": {
      "provenance": []
    },
    "kernelspec": {
      "name": "python3",
      "display_name": "Python 3"
    },
    "language_info": {
      "name": "python"
    }
  },
  "cells": [
    {
      "cell_type": "code",
      "execution_count": null,
      "metadata": {
        "id": "Rh1yLfB6jeGG"
      },
      "outputs": [],
      "source": [
        "#Vigenere Cipher\n",
        "string=\"GEEKSFORGEEKS\"\n",
        "key=\"SHARAN\""
      ]
    },
    {
      "cell_type": "code",
      "source": [
        "def generateKey(string, key):\n",
        "    key = list(key)\n",
        "    if len(string) == len(key):\n",
        "        return(key)\n",
        "    else:\n",
        "        for i in range(len(string) - len(key)):\n",
        "            key.append(key[i % len(key)])\n",
        "    return(\"\" . join(key))\n",
        "\n",
        "key=generateKey(string, key)"
      ],
      "metadata": {
        "id": "7oaFOa0ozG-q"
      },
      "execution_count": null,
      "outputs": []
    },
    {
      "cell_type": "code",
      "source": [
        "def encrypt_ciphertext(string,key):\n",
        "  cipher_text=[]\n",
        "  for i in range(len(string)):\n",
        "    x = ((ord(string[i]) + ord(key[i])) % 26)+ord('A')\n",
        "    cipher_text.append(chr(x))\n",
        "  return(\"\".join(cipher_text))\n",
        "\n",
        "encrypt_ciphertext(string,key) "
      ],
      "metadata": {
        "colab": {
          "base_uri": "https://localhost:8080/",
          "height": 35
        },
        "id": "zjQ4fMuZqakv",
        "outputId": "5387b459-2768-4300-a569-c7de71c20188"
      },
      "execution_count": null,
      "outputs": [
        {
          "output_type": "execute_result",
          "data": {
            "text/plain": [
              "'YLEBSSGYGVEXK'"
            ],
            "application/vnd.google.colaboratory.intrinsic+json": {
              "type": "string"
            }
          },
          "metadata": {},
          "execution_count": 61
        }
      ]
    },
    {
      "cell_type": "code",
      "source": [
        "print(\"Original Message\",string)\n",
        "print(\"Keyword:\", key)\n",
        "cipher_text = encrypt_ciphertext(string,key)\n",
        "print(\"Ciphertext :\", cipher_text)"
      ],
      "metadata": {
        "colab": {
          "base_uri": "https://localhost:8080/"
        },
        "id": "kyahCtvvzZg1",
        "outputId": "30408fe4-2084-4ec8-d861-3b2e300e527f"
      },
      "execution_count": null,
      "outputs": [
        {
          "output_type": "stream",
          "name": "stdout",
          "text": [
            "Original Message GEEKSFORGEEKS\n",
            "Keyword: SHARANSHARANS\n",
            "Ciphertext : YLEBSSGYGVEXK\n"
          ]
        }
      ]
    },
    {
      "cell_type": "code",
      "source": [
        "def decrypt_originaltext(ciphertext,key):\n",
        "  origtext=[]\n",
        "  for i in range(len(ciphertext)):\n",
        "    x=((ord(cipher_text[i]) - ord(key[i]))  %26)+ord('A')\n",
        "    origtext.append(chr(x))\n",
        "\n",
        "  return(\"\".join(origtext))\n",
        "\n",
        "cipher_text = encrypt_ciphertext(string,key)"
      ],
      "metadata": {
        "id": "9Pwo698G1FnR"
      },
      "execution_count": null,
      "outputs": []
    },
    {
      "cell_type": "code",
      "source": [
        "print(\"Ciphertext :\", cipher_text)\n",
        "print(\"Original/Decrypted Text :\",decrypt_originaltext(cipher_text, key))"
      ],
      "metadata": {
        "colab": {
          "base_uri": "https://localhost:8080/"
        },
        "id": "VOiQ3FIc1Kbv",
        "outputId": "0797d7bc-3fcd-4494-996a-62397868b211"
      },
      "execution_count": null,
      "outputs": [
        {
          "output_type": "stream",
          "name": "stdout",
          "text": [
            "Ciphertext : YLEBSSGYGVEXK\n",
            "Original/Decrypted Text : GEEKSFORGEEKS\n"
          ]
        }
      ]
    }
  ]
}
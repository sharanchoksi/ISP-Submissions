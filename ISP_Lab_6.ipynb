{
  "nbformat": 4,
  "nbformat_minor": 0,
  "metadata": {
    "colab": {
      "provenance": []
    },
    "kernelspec": {
      "name": "python3",
      "display_name": "Python 3"
    },
    "language_info": {
      "name": "python"
    }
  },
  "cells": [
    {
      "cell_type": "code",
      "execution_count": null,
      "metadata": {
        "id": "lXmDrpiFihfg"
      },
      "outputs": [],
      "source": [
        "#Diffie Hellmann Cipher"
      ]
    },
    {
      "cell_type": "code",
      "source": [
        "print(\"Both parties agree to a single prime\")\n",
        "prime = int(input(\"Enter the prime number to be considered: \"))\n",
        "\n",
        "# primitives root to be used use\n",
        "print(\"Both must agree with single primitive root to use\")\n",
        "root = int(input(\"Enter the primitive root: \"))"
      ],
      "metadata": {
        "colab": {
          "base_uri": "https://localhost:8080/"
        },
        "id": "Z4Qg-l8Qittm",
        "outputId": "734caa2f-9660-4188-e6f9-2794f5f4c419"
      },
      "execution_count": null,
      "outputs": [
        {
          "name": "stdout",
          "output_type": "stream",
          "text": [
            "Both parties agree to a single prime\n",
            "Enter the prime number to be considered: 31\n",
            "Both must agree with single primitive root to use\n",
            "Enter the primitive root: 11\n"
          ]
        }
      ]
    },
    {
      "cell_type": "code",
      "source": [
        "# party 1 chooses a secret number\n",
        "alicesecret = int(input(\"Enter a secret number for Party1: \"))\n",
        "# Party 2 chooses a secret number (bs)\n",
        "bobssecret = int(input(\"Enter a secret number for Party2: \"))"
      ],
      "metadata": {
        "colab": {
          "base_uri": "https://localhost:8080/"
        },
        "id": "gADlwDABi4cq",
        "outputId": "1ecf08c4-bc6a-4986-b7c7-90a1a17c749e"
      },
      "execution_count": null,
      "outputs": [
        {
          "name": "stdout",
          "output_type": "stream",
          "text": [
            "Enter a secret number for Party1: 98\n",
            "Enter a secret number for Party2: 60\n"
          ]
        }
      ]
    },
    {
      "cell_type": "code",
      "source": [
        "print(\"Party1's public key -> A = root^alicesecre*mod(prime)\")\n",
        "alicepublic = (root**alicesecret)%prime\n",
        "print(\"Party1 public key is: \",alicepublic,\"\\n\")\n",
        "\n",
        "print(\"Party2's public key -> B = root^alicesecre*mod(prime)\")\n",
        "bobpublic = (root**bobssecret)%prime\n",
        "print(\"Party2 public key is: \",bobpublic,\"\\n\")"
      ],
      "metadata": {
        "colab": {
          "base_uri": "https://localhost:8080/"
        },
        "id": "dKVKdjTgjABn",
        "outputId": "9ca7c3cd-fcc4-4c7c-df94-6c65c4bc7d9b"
      },
      "execution_count": null,
      "outputs": [
        {
          "output_type": "stream",
          "name": "stdout",
          "text": [
            "Party1's public key -> A = root^alicesecre*mod(prime)\n",
            "Party1 public key is:  19 \n",
            "\n",
            "Party2's public key -> B = root^alicesecre*mod(prime)\n",
            "Party2 public key is:  1 \n",
            "\n"
          ]
        }
      ]
    },
    {
      "cell_type": "code",
      "source": [
        "print(\"Party1 calculates the shared key as K=B^alicesecret*(mod(prime))\")\n",
        "alicekey=(bobpublic**alicesecret)%prime\n",
        "print(\"Party1 calculates the shared key and results: \",alicekey,\"\\n\")"
      ],
      "metadata": {
        "id": "0F2WpFqOjBfh",
        "outputId": "037a22ba-97c1-4fcb-e0f2-f4b3bdb34e38",
        "colab": {
          "base_uri": "https://localhost:8080/"
        }
      },
      "execution_count": null,
      "outputs": [
        {
          "output_type": "stream",
          "name": "stdout",
          "text": [
            "Party1 calculates the shared key as K=B^alicesecret*(mod(prime))\n",
            "Party1 calculates the shared key and results:  1 \n",
            "\n"
          ]
        }
      ]
    },
    {
      "cell_type": "code",
      "source": [
        "print(\"Party2 calculates the shared key as K=A^bobsecret*(mod(prime))\")\n",
        "bobkey=(alicepublic**bobssecret)%prime\n",
        "print(\"Party2 calculates the shared key and results: \",bobkey,\"\\n\")"
      ],
      "metadata": {
        "id": "6YrH214OjFAc",
        "outputId": "59562d98-d302-4a75-de29-57342b4b12db",
        "colab": {
          "base_uri": "https://localhost:8080/"
        }
      },
      "execution_count": null,
      "outputs": [
        {
          "output_type": "stream",
          "name": "stdout",
          "text": [
            "Party2 calculates the shared key as K=A^bobsecret*(mod(prime))\n",
            "Party2 calculates the shared key and results:  1 \n",
            "\n"
          ]
        }
      ]
    }
  ]
}